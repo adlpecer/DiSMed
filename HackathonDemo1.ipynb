{
  "nbformat": 4,
  "nbformat_minor": 0,
  "metadata": {
    "colab": {
      "name": "HackathonDemo1.ipynb",
      "provenance": [],
      "collapsed_sections": [],
      "include_colab_link": true
    },
    "kernelspec": {
      "name": "python3",
      "display_name": "Python 3"
    },
    "language_info": {
      "name": "python"
    }
  },
  "cells": [
    {
      "cell_type": "markdown",
      "metadata": {
        "id": "view-in-github",
        "colab_type": "text"
      },
      "source": [
        "<a href=\"https://colab.research.google.com/github/adlpecer/DiSMed/blob/master/HackathonDemo1.ipynb\" target=\"_parent\"><img src=\"https://colab.research.google.com/assets/colab-badge.svg\" alt=\"Open In Colab\"/></a>"
      ]
    },
    {
      "cell_type": "markdown",
      "source": [
        "![logoDH.png](data:image/png;base64,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)"
      ],
      "metadata": {
        "id": "lfMHimCQIAzK"
      }
    },
    {
      "cell_type": "markdown",
      "source": [
        "# **MEDICAL DATA ANONYMIZATION HACKATHON**\n",
        "## Demo 1 - **DisMed**: De-Identification of Medical Texts"
      ],
      "metadata": {
        "id": "4G38yOutFKFJ"
      }
    },
    {
      "cell_type": "markdown",
      "source": [
        "In this Demo, we will get some insights about the functionalities of our medical texts anonymizer: **DisMed**.\n"
      ],
      "metadata": {
        "id": "RaaPh3oWGNjq"
      }
    },
    {
      "cell_type": "markdown",
      "source": [
        "### **DiSMed - De-identifying Spanish Medical texts**\n",
        "DiSMed is a de-identification methodology for Spanish medical texts based on Named Entity Recognition (NER). It is based on [spaCy](https://spacy.io/) and partially based on the networks designed by Gillaume Genthial implemented on Tensorflow 1. DiSMed includes both the Python code and the curated dataset, available under request under a research use agreement.\n",
        "\n",
        "Data access can be requested at [BIMCV](http://bimcv.cipf.es/).\n",
        "\n",
        "The results obtained are available at [Journal of Biomedical Semantics: De-identifying Spanish medical texts - named entity recognition applied to radiology reports ](https://doi.org/10.1186/s13326-021-00236-2)."
      ],
      "metadata": {
        "id": "p3IYGBNEIhlg"
      }
    },
    {
      "cell_type": "markdown",
      "source": [
        "### **Hands On!**"
      ],
      "metadata": {
        "id": "RkUSgGfUu9Kp"
      }
    },
    {
      "cell_type": "markdown",
      "source": [
        "#### **Accesing the Python code**\n",
        "DisMed code is open and available at GitHub ([link](https://github.com/BIMCV-CSUSP/DiSMed)).\n",
        "\n",
        "The repository can be cloned as follows:"
      ],
      "metadata": {
        "id": "zOkeJ_qsN7XW"
      }
    },
    {
      "cell_type": "code",
      "metadata": {
        "colab": {
          "base_uri": "https://localhost:8080/"
        },
        "id": "NgwyofnpJLiM",
        "outputId": "c137ca0f-9230-4be2-a321-999aca39cc73"
      },
      "source": [
        "# Retrieving all the code from GitHub. \"!\" is needed to use outer commands from Python.\n",
        "!git clone https://github.com/BIMCV-CSUSP/DiSMed.git"
      ],
      "execution_count": 1,
      "outputs": [
        {
          "output_type": "stream",
          "name": "stdout",
          "text": [
            "Cloning into 'DiSMed'...\n",
            "remote: Enumerating objects: 143, done.\u001b[K\n",
            "remote: Counting objects: 100% (143/143), done.\u001b[K\n",
            "remote: Compressing objects: 100% (118/118), done.\u001b[K\n",
            "remote: Total 143 (delta 45), reused 79 (delta 19), pack-reused 0\u001b[K\n",
            "Receiving objects: 100% (143/143), 8.52 MiB | 21.65 MiB/s, done.\n",
            "Resolving deltas: 100% (45/45), done.\n"
          ]
        }
      ]
    },
    {
      "cell_type": "code",
      "source": [
        "# With \"!ls\" we can see all the files in our current working directory.\n",
        "!ls "
      ],
      "metadata": {
        "colab": {
          "base_uri": "https://localhost:8080/"
        },
        "id": "QDEaOtVAz1K-",
        "outputId": "273a4585-1cd2-4960-eaf0-f12e4dffd73d"
      },
      "execution_count": 2,
      "outputs": [
        {
          "output_type": "stream",
          "name": "stdout",
          "text": [
            "DiSMed\tsample_data\n"
          ]
        }
      ]
    },
    {
      "cell_type": "markdown",
      "source": [
        "#### **Downloading a raw report from Google Drive**\n",
        "DisMed repository includes its own examples of reports, but all of them are currently annotated. Here we can download one of these example reports ([link](https://drive.google.com/file/d/1zu-wo-IBO1eXnaiD-iNXiSglCkXjpa7f/view?usp=sharing)) in its basic plain text format before annotation. "
      ],
      "metadata": {
        "id": "7eMpkgJwuVsg"
      }
    },
    {
      "cell_type": "code",
      "source": [
        "# Downloading a plain text raw report from Google Drive\n",
        "# and storing it in \"rawreports\" folder\n",
        "!mkdir rawreports\n",
        "!wget --no-check-certificate 'https://docs.google.com/uc?export=download&id=1zu-wo-IBO1eXnaiD-iNXiSglCkXjpa7f' -O rawreports/testa_raw.txt"
      ],
      "metadata": {
        "colab": {
          "base_uri": "https://localhost:8080/"
        },
        "id": "jbH1dBvuSghF",
        "outputId": "826b4ba6-5cb5-4969-ef8d-40ed9a7d1564"
      },
      "execution_count": 3,
      "outputs": [
        {
          "output_type": "stream",
          "name": "stdout",
          "text": [
            "--2021-12-30 09:53:51--  https://docs.google.com/uc?export=download&id=1zu-wo-IBO1eXnaiD-iNXiSglCkXjpa7f\n",
            "Resolving docs.google.com (docs.google.com)... 172.217.2.110, 2607:f8b0:4004:80a::200e\n",
            "Connecting to docs.google.com (docs.google.com)|172.217.2.110|:443... connected.\n",
            "HTTP request sent, awaiting response... 302 Moved Temporarily\n",
            "Location: https://doc-00-ak-docs.googleusercontent.com/docs/securesc/ha0ro937gcuc7l7deffksulhg5h7mbp1/krlhdar9pqmftfq2v39hf2tolu5bc0ia/1640858025000/13404096326156635612/*/1zu-wo-IBO1eXnaiD-iNXiSglCkXjpa7f?e=download [following]\n",
            "Warning: wildcards not supported in HTTP.\n",
            "--2021-12-30 09:53:52--  https://doc-00-ak-docs.googleusercontent.com/docs/securesc/ha0ro937gcuc7l7deffksulhg5h7mbp1/krlhdar9pqmftfq2v39hf2tolu5bc0ia/1640858025000/13404096326156635612/*/1zu-wo-IBO1eXnaiD-iNXiSglCkXjpa7f?e=download\n",
            "Resolving doc-00-ak-docs.googleusercontent.com (doc-00-ak-docs.googleusercontent.com)... 172.217.1.193, 2607:f8b0:4004:801::2001\n",
            "Connecting to doc-00-ak-docs.googleusercontent.com (doc-00-ak-docs.googleusercontent.com)|172.217.1.193|:443... connected.\n",
            "HTTP request sent, awaiting response... 200 OK\n",
            "Length: 853 [text/plain]\n",
            "Saving to: ‘rawreports/testa_raw.txt’\n",
            "\n",
            "rawreports/testa_ra 100%[===================>]     853  --.-KB/s    in 0s      \n",
            "\n",
            "2021-12-30 09:53:52 (4.30 MB/s) - ‘rawreports/testa_raw.txt’ saved [853/853]\n",
            "\n"
          ]
        }
      ]
    },
    {
      "cell_type": "code",
      "source": [
        "# Check if the file is correctly downloaded\n",
        "!ls rawreports/"
      ],
      "metadata": {
        "colab": {
          "base_uri": "https://localhost:8080/"
        },
        "id": "El5d-12dSvBl",
        "outputId": "b07287c0-0142-41d5-9fe7-851bf8db72e2"
      },
      "execution_count": 4,
      "outputs": [
        {
          "output_type": "stream",
          "name": "stdout",
          "text": [
            "testa_raw.txt\n"
          ]
        }
      ]
    },
    {
      "cell_type": "markdown",
      "source": [
        "  We can show the report content using some commands such as *head* or *tail*."
      ],
      "metadata": {
        "id": "WielpCIw4W2t"
      }
    },
    {
      "cell_type": "code",
      "source": [
        "# Display first 10 lines from the report\n",
        "!head rawreports/testa_raw.txt"
      ],
      "metadata": {
        "colab": {
          "base_uri": "https://localhost:8080/"
        },
        "id": "9iG89RlDgtE8",
        "outputId": "42d802db-a53d-422e-8c0e-62aecedf15c0"
      },
      "execution_count": 5,
      "outputs": [
        {
          "output_type": "stream",
          "name": "stdout",
          "text": [
            "Nombre: VERONICA Apellidos: GALVARRO AZZAROUALI\n",
            "F.Nacimiento: 22/12/1923 F.Realización: 14/10/2016\n",
            "Médico solicitante: MATARREDONA DEL GAYOSO , CONCEPCION ,\n",
            "Centro solicitante: NEUROLOGIA ( C.S. PARE JOFRE ) \n",
            "Exploración solicitada: VASC CEREBRAL\n",
            "E12343212  Número Exploración : AC-12321 \n",
            "\n",
            "RM Cerebral\n",
            "RM Vascular Cerebral (Willis-TSA)  \n",
            "\n"
          ]
        }
      ]
    },
    {
      "cell_type": "markdown",
      "source": [
        "As we can see, this radiology report contains sensible data from both patient and physician. Also, there are information about the health institution and some IDs that can allow to extract personal information from the text. In the next section, we will see how to apply our methodology to de-identify radiology texts."
      ],
      "metadata": {
        "id": "l_tcoUDP48n7"
      }
    },
    {
      "cell_type": "markdown",
      "source": [
        "#### **The DisMed Pipeline**\n",
        "\n"
      ],
      "metadata": {
        "id": "NeYNAXnxYh8n"
      }
    },
    {
      "cell_type": "markdown",
      "source": [
        "This Pipeline for radiological texts de-identification is composed for several steps:\n",
        "\n",
        "\n",
        "1.   **Corpus construction**: In this step, plain texts retrieved from a database have to be manually annotated. This process is extensive in terms of time and effort and requires the annotation of the reports one by one. We can speed up this step by applying a *pre-annotation* based on lists of terms and/or regular expressions.\n",
        "2.   **Randomization**: A process of randomization can be applied on the annotated texts to increase the variability of the corpus. This process could lead to a more general predictive model.\n",
        "3.   **Model Training**: Finally we can train different models with the preprocessed corpus and evaluate them to achieve the better possible model.\n",
        "\n"
      ],
      "metadata": {
        "id": "SY7VD6ZJxscc"
      }
    },
    {
      "cell_type": "markdown",
      "source": [
        "We can access all the python scripts that compose the pipeline in the folder *scripts* within the repository. All of them perform concrete processing and evaluating functions."
      ],
      "metadata": {
        "id": "TlvPU2WrxUJj"
      }
    },
    {
      "cell_type": "code",
      "source": [
        "# Changing working directory with \"%cd\".\n",
        "%cd DiSMed/scripts"
      ],
      "metadata": {
        "colab": {
          "base_uri": "https://localhost:8080/"
        },
        "id": "hZ-8I0Hs7_K3",
        "outputId": "63875c4e-2368-46c4-d2b2-58aac9014245"
      },
      "execution_count": 6,
      "outputs": [
        {
          "output_type": "stream",
          "name": "stdout",
          "text": [
            "/content/DiSMed/scripts\n"
          ]
        }
      ]
    },
    {
      "cell_type": "code",
      "source": [
        "# Check all available python scripts\n",
        "!ls"
      ],
      "metadata": {
        "colab": {
          "base_uri": "https://localhost:8080/"
        },
        "id": "TnSPp8VrGQ8u",
        "outputId": "209aa6b3-67e1-4b4a-e3e5-14133309dc01"
      },
      "execution_count": 7,
      "outputs": [
        {
          "output_type": "stream",
          "name": "stdout",
          "text": [
            "evaluate_spacy.py  iobes_to_html.py  spacy_to_html.py\n",
            "global_metrics.py  pre_annotator.py  synthetic_dataset.py\n",
            "iobes_tagging.py   README.md\t     text_to_json_spacy.py\n"
          ]
        }
      ]
    },
    {
      "cell_type": "markdown",
      "source": [
        "#### **1. Radiology Reports Pre-annotation**\n"
      ],
      "metadata": {
        "id": "3F91cWmQHv73"
      }
    },
    {
      "cell_type": "markdown",
      "source": [
        "In this section, we will execute the [*pre_annotator.py*](https://github.com/BIMCV-CSUSP/DiSMed/blob/master/scripts/pre_annotator.py) script to pre-annotate the names, surnames and institutions of the reports. We will use the test A report as an example."
      ],
      "metadata": {
        "id": "J7hh9Zh4wPXN"
      }
    },
    {
      "cell_type": "code",
      "metadata": {
        "colab": {
          "base_uri": "https://localhost:8080/"
        },
        "id": "S2Ib6MDbKB-9",
        "outputId": "2fc91be0-8f64-439e-9c2a-4e15d9b52883"
      },
      "source": [
        "# Displaying optional arguments\n",
        "!python pre_annotator.py -h"
      ],
      "execution_count": 8,
      "outputs": [
        {
          "output_type": "stream",
          "name": "stdout",
          "text": [
            "usage: pre_annotator.py [-h] [-d DIRECTORY] [-v VERBOSE] [-nf NAMES]\n",
            "                        [-sf SURNAMES] [-o OVERWRITE]\n",
            "\n",
            "optional arguments:\n",
            "  -h, --help            show this help message and exit\n",
            "  -d DIRECTORY, --directory DIRECTORY\n",
            "                        Directory where the text files are stored\n",
            "  -v VERBOSE, --verbose VERBOSE\n",
            "                        Whether to show in screen progress notes or not\n",
            "  -nf NAMES, --names NAMES\n",
            "                        Path of the file containing the name database\n",
            "  -sf SURNAMES, --surnames SURNAMES\n",
            "                        Path of the file containing the surname database\n",
            "  -o OVERWRITE, --overwrite OVERWRITE\n",
            "                        Whether to overwrite input files or not\n"
          ]
        }
      ]
    },
    {
      "cell_type": "code",
      "source": [
        "# Executing the script\n",
        "!python pre_annotator.py -d \"../../rawreports/\" -nf \"../data/databases/names.csv\" -sf \"../data/databases/surnames.csv\""
      ],
      "metadata": {
        "colab": {
          "base_uri": "https://localhost:8080/"
        },
        "id": "BIKc8LBNZkTp",
        "outputId": "732c34fc-deb1-44c8-c034-6afd97f2f5b9"
      },
      "execution_count": 9,
      "outputs": [
        {
          "output_type": "stream",
          "name": "stdout",
          "text": [
            "Tagging hospital words\n",
            "\n",
            "0.01316690444946289\n",
            "Tagging names\n",
            "Attribute Error, trying to strip word 'nan'\n",
            "['JOFRE', 'CONCEPCION', 'VERONICA']\n",
            "10.04893684387207\n",
            "Replacing with surname database\n",
            "\n",
            "[]\n",
            "9.801239490509033\n",
            "total time 19.86389660835266\n"
          ]
        }
      ]
    },
    {
      "cell_type": "markdown",
      "source": [
        "We can explore the tagged report to assess the results from pre-annotation."
      ],
      "metadata": {
        "id": "boc2OdAkxZTZ"
      }
    },
    {
      "cell_type": "code",
      "source": [
        "!head ../../rawreports/testa_raw_tagged.txt"
      ],
      "metadata": {
        "colab": {
          "base_uri": "https://localhost:8080/"
        },
        "id": "z7D1tX6qg62B",
        "outputId": "52b90a9b-219e-48bf-8db7-4032a0893d98"
      },
      "execution_count": 10,
      "outputs": [
        {
          "output_type": "stream",
          "name": "stdout",
          "text": [
            "Nombre: <NAME>VERONICA</NAME> Apellidos: GALVARRO AZZAROUALI\n",
            "F.Nacimiento: 22/12/1923 F.Realización: 14/10/2016\n",
            "Médico solicitante: MATARREDONA DEL GAYOSO , <NAME>CONCEPCION</NAME> ,\n",
            "Centro solicitante: NEUROLOGIA ( C.S. <INST>PARE</INST> <INST>JOFRE</INST> ) \n",
            "Exploración solicitada: VASC CEREBRAL\n",
            "E12343212  Número Exploración : AC-12321 \n",
            "\n",
            "RM Cerebral\n",
            "RM Vascular Cerebral (Willis-TSA)  \n",
            "\n"
          ]
        }
      ]
    },
    {
      "cell_type": "markdown",
      "source": [
        "As we can see, we have detected only a portion of all entities to be recognized. To ensure the right annotation of every entity we have to manually correct all the reports. The poor execution of this automated method emphasizes the need for more sophisticated ways to detect entities."
      ],
      "metadata": {
        "id": "pCm17BeJynSZ"
      }
    },
    {
      "cell_type": "code",
      "source": [
        "# Displaying manually corrected report\n",
        "!head ../data/sr/testa.txt"
      ],
      "metadata": {
        "colab": {
          "base_uri": "https://localhost:8080/"
        },
        "id": "llETz0PZLhQT",
        "outputId": "34fcc89e-d005-4e25-ea41-834aba3ad019"
      },
      "execution_count": 11,
      "outputs": [
        {
          "output_type": "stream",
          "name": "stdout",
          "text": [
            "Nombre: <NAME>VERONICA</NAME> Apellidos: <NAME>GALVARRO</NAME> <NAME>AZZAROUALI</NAME>\n",
            "F.Nacimiento: <FECHA>22/12/1923</FECHA> F.Realización: <FECHA>14/10/2016</FECHA>\n",
            "Médico solicitante: <NAME>MATARREDONA</NAME> <NAME>DEL</NAME> <NAME>GAYOSO</NAME> , <NAME>CONCEPCION</NAME> ,\n",
            "Centro solicitante: NEUROLOGIA ( <INST>C.S.</INST> <INST>PARE</INST> <INST>JOFRE</INST> ) \n",
            "Exploración solicitada: VASC CEREBRAL\n",
            "<NUM>E12343212</NUM>  Número Exploración : <NUM>AC-12321</NUM> \n",
            "\n",
            "RM Cerebral\n",
            "RM Vascular Cerebral (Willis-TSA)  \n",
            "\n"
          ]
        }
      ]
    },
    {
      "cell_type": "markdown",
      "source": [
        "#### **2. Data Randomization**\n"
      ],
      "metadata": {
        "id": "3PUHbal1IO1g"
      }
    },
    {
      "cell_type": "markdown",
      "source": [
        "This step is not necessary to get an effective NER model. However, we empirically concluded that data randomization led us to a more flexible and versatile model. Randomization replaces actual tagged words with equivalent words belonging to the same named entities.\n",
        "This preprocess step is applied by running the [*synthetic_dataset.py*](https://github.com/BIMCV-CSUSP/DiSMed/blob/master/scripts/synthetic_dataset.py) script."
      ],
      "metadata": {
        "id": "OosCpYw81j1B"
      }
    },
    {
      "cell_type": "code",
      "source": [
        "# Displaying optional arguments explanation\n",
        "!python synthetic_dataset.py -h"
      ],
      "metadata": {
        "colab": {
          "base_uri": "https://localhost:8080/"
        },
        "id": "eVWQy6VblUQN",
        "outputId": "d6aad194-a00d-4942-962a-729a1a4bad18"
      },
      "execution_count": 12,
      "outputs": [
        {
          "output_type": "stream",
          "name": "stdout",
          "text": [
            "usage: synthetic_dataset.py [-h] [-df DATAFILE] [-nf NAMES] [-sf SURNAMES]\n",
            "                            [-af ADDRESSES] [-hf HOSPITALS]\n",
            "                            [-hcf HEALTHCENTRES] [-cf CITIES] [-of OUTPUT]\n",
            "\n",
            "optional arguments:\n",
            "  -h, --help            show this help message and exit\n",
            "  -df DATAFILE, --datafile DATAFILE\n",
            "                        Path of the file to alter\n",
            "  -nf NAMES, --names NAMES\n",
            "                        Path of the file containing the name database\n",
            "  -sf SURNAMES, --surnames SURNAMES\n",
            "                        Path of the file containing the surname database\n",
            "  -af ADDRESSES, --addresses ADDRESSES\n",
            "                        Path of the file containing the address database\n",
            "  -hf HOSPITALS, --hospitals HOSPITALS\n",
            "                        Path of the file containing the hospital database\n",
            "  -hcf HEALTHCENTRES, --healthcentres HEALTHCENTRES\n",
            "                        Path of the file containing the health centres\n",
            "                        database\n",
            "  -cf CITIES, --cities CITIES\n",
            "                        Path of the file containing the cities database\n",
            "  -of OUTPUT, --output OUTPUT\n",
            "                        Path of the output file\n"
          ]
        }
      ]
    },
    {
      "cell_type": "code",
      "source": [
        "# Applying randomization to manually annotated test A report.\n",
        "!python synthetic_dataset.py -df '../data/sr/testa.txt' -of '../data/testa_randomized.txt'"
      ],
      "metadata": {
        "id": "oU5JkTsdleUS"
      },
      "execution_count": 13,
      "outputs": []
    },
    {
      "cell_type": "code",
      "source": [
        "# Displaying randomized report\n",
        "!head ../data/testa_randomized.txt"
      ],
      "metadata": {
        "colab": {
          "base_uri": "https://localhost:8080/"
        },
        "id": "lFF61dqdMUd5",
        "outputId": "cbdf0224-b03a-421d-d2ff-67bcff51ef6e"
      },
      "execution_count": 14,
      "outputs": [
        {
          "output_type": "stream",
          "name": "stdout",
          "text": [
            "Nombre: <NAME>VICENTE</NAME> Apellidos: <NAME>SANCHEZ</NAME> <NAME>GARRIDO</NAME>\n",
            "F.Nacimiento: <FECHA>25/9/2007</FECHA> F.Realización: <FECHA>29/8/1995</FECHA>\n",
            "Médico solicitante: <NAME>RAFAEL</NAME> <NAME>JARAMILLO</NAME> <NAME>VELAZQUEZ</NAME> , <NAME>JOSE</NAME> <NAME>CIPRIANO</NAME> ,\n",
            "Centro solicitante: NEUROLOGIA ( <INST>HOSPITAL</INST> <INST>SANTIAGO</INST> <INST>APÓSTOL</INST>   )\n",
            "Exploración solicitada: VASC CEREBRAL\n",
            "<NUM>Q35734361</NUM> Número Exploración : <NUM>xe-36333</NUM>\n",
            "\n",
            "RM Cerebral\n",
            "RM Vascular Cerebral (Willis-TSA)\n",
            "\n"
          ]
        }
      ]
    },
    {
      "cell_type": "markdown",
      "source": [
        "#### **3. Training a Model**"
      ],
      "metadata": {
        "id": "yYsCBV5SIfjw"
      }
    },
    {
      "cell_type": "markdown",
      "source": [
        "This step is necessary to get a predictive model from a processed corpus. We have achieved this using the open-source Python library for Natural Language Processing (NLP), [SpaCy](https://spacy.io/). We will train an example model in the following code cells. But first, we have to adapt our reports to a compatible input format."
      ],
      "metadata": {
        "id": "tFQCFJa-zM4f"
      }
    },
    {
      "cell_type": "markdown",
      "source": [
        "Plain texts reports must be transformed to JSON files. This could be achieved using the [*text_to_json_spacy.py*](https://github.com/BIMCV-CSUSP/DiSMed/blob/master/scripts/text_to_json_spacy.py) script."
      ],
      "metadata": {
        "id": "EjrVJCYz64Sn"
      }
    },
    {
      "cell_type": "code",
      "source": [
        "# Displaying optional arguments explanation\n",
        "!python text_to_json_spacy.py -h"
      ],
      "metadata": {
        "colab": {
          "base_uri": "https://localhost:8080/"
        },
        "id": "VrFX_H4PM4eg",
        "outputId": "68836768-2d12-487b-cf3a-61a4c4aff337"
      },
      "execution_count": 15,
      "outputs": [
        {
          "output_type": "stream",
          "name": "stdout",
          "text": [
            "usage: text_to_json_spacy.py [-h] [-txt TEXTFILE] [-out OUTPUT]\n",
            "                             [-mn DUMMYMODEL] [-ll LABELLIST]\n",
            "\n",
            "optional arguments:\n",
            "  -h, --help            show this help message and exit\n",
            "  -txt TEXTFILE, --textfile TEXTFILE\n",
            "                        Path of the file with records to transform\n",
            "  -out OUTPUT, --output OUTPUT\n",
            "                        Path to save the json output\n",
            "  -mn DUMMYMODEL, --dummymodel DUMMYMODEL\n",
            "                        Directory of the dummy model\n",
            "  -ll LABELLIST, --labellist LABELLIST\n",
            "                        NERs to use in the model\n"
          ]
        }
      ]
    },
    {
      "cell_type": "markdown",
      "source": [
        "To train and evaluate the model, we have to transform both train and test data partitions."
      ],
      "metadata": {
        "id": "de136IdI7h12"
      }
    },
    {
      "cell_type": "code",
      "source": [
        "# JSON transformation of the train set\n",
        "!python text_to_json_spacy.py -txt '../data/sr/train.txt' -out '../data/sr/srjson_train/train.json'"
      ],
      "metadata": {
        "id": "ZcYZBDlrNUFt"
      },
      "execution_count": 16,
      "outputs": []
    },
    {
      "cell_type": "code",
      "source": [
        "# JSON transformation of the test set\n",
        "!python text_to_json_spacy.py -txt '../data/sr/testa.txt' -out '../data/sr/srjson_test/testa.json'"
      ],
      "metadata": {
        "id": "WSoYGawmNrS-"
      },
      "execution_count": 17,
      "outputs": []
    },
    {
      "cell_type": "code",
      "source": [
        "!ls ../data/sr/"
      ],
      "metadata": {
        "colab": {
          "base_uri": "https://localhost:8080/"
        },
        "id": "4ZVfz-ETmMHX",
        "outputId": "9d7d6505-fef2-439c-8fc5-a88dffc800e6"
      },
      "execution_count": 18,
      "outputs": [
        {
          "output_type": "stream",
          "name": "stdout",
          "text": [
            "README.md  srjson_test\tsrjson_train  testa.txt  testb.txt  train.txt\n"
          ]
        }
      ]
    },
    {
      "cell_type": "code",
      "source": [
        "!ls ../data/sr/srjson_test/"
      ],
      "metadata": {
        "colab": {
          "base_uri": "https://localhost:8080/"
        },
        "id": "NYdjxrGwmU2N",
        "outputId": "109ce15e-0394-4769-b37f-7f07a4046c64"
      },
      "execution_count": 19,
      "outputs": [
        {
          "output_type": "stream",
          "name": "stdout",
          "text": [
            "testa.json\n"
          ]
        }
      ]
    },
    {
      "cell_type": "code",
      "source": [
        "# Displaying test A report in JSON format\n",
        "!head -n 40 ../data/sr/srjson_test/testa.json"
      ],
      "metadata": {
        "colab": {
          "base_uri": "https://localhost:8080/"
        },
        "id": "iMFmE15jsNkf",
        "outputId": "c206ec22-54a0-4b63-f85e-550c54c4c8dd"
      },
      "execution_count": 20,
      "outputs": [
        {
          "output_type": "stream",
          "name": "stdout",
          "text": [
            "[\n",
            "  {\n",
            "    \"id\":0,\n",
            "    \"paragraphs\":[\n",
            "      {\n",
            "        \"raw\":\"Nombre: VERONICA Apellidos: GALVARRO AZZAROUALI\",\n",
            "        \"sentences\":[\n",
            "          {\n",
            "            \"tokens\":[\n",
            "              {\n",
            "                \"id\":0,\n",
            "                \"orth\":\"Nombre\",\n",
            "                \"head\":0,\n",
            "                \"dep\":\"\",\n",
            "                \"ner\":\"O\"\n",
            "              },\n",
            "              {\n",
            "                \"id\":1,\n",
            "                \"orth\":\":\",\n",
            "                \"head\":0,\n",
            "                \"dep\":\"\",\n",
            "                \"ner\":\"O\"\n",
            "              },\n",
            "              {\n",
            "                \"id\":2,\n",
            "                \"orth\":\"VERONICA\",\n",
            "                \"head\":0,\n",
            "                \"dep\":\"\",\n",
            "                \"ner\":\"U-NAME\"\n",
            "              },\n",
            "              {\n",
            "                \"id\":3,\n",
            "                \"orth\":\"Apellidos\",\n",
            "                \"head\":0,\n",
            "                \"dep\":\"\",\n",
            "                \"ner\":\"O\"\n",
            "              },\n",
            "              {\n",
            "                \"id\":4,\n",
            "                \"orth\":\":\",\n"
          ]
        }
      ]
    },
    {
      "cell_type": "markdown",
      "source": [
        "Finally, several models can be trained using functionalities implemented in SpaCy. In this case, we will train the model with the *train* function. \n",
        "\n",
        "Please note that we are training and evaluating the models with only two reports (one training report and another test report) to shorten the execution time. Therefore, the performance of these models should be poor. Corpus size must be much greater to get a truly functional model."
      ],
      "metadata": {
        "id": "82DifEY8GYJg"
      }
    },
    {
      "cell_type": "code",
      "source": [
        "# Training the Named Entity Recognition (NER) model\n",
        "!python -m spacy train en ../data/models/example_model2/ ../data/sr/srjson_train/train.json ../data/sr/srjson_test/testa.json -p \"ner\""
      ],
      "metadata": {
        "colab": {
          "base_uri": "https://localhost:8080/"
        },
        "id": "R9D6ba1sF52u",
        "outputId": "f361ddc9-69ca-4412-f8ef-fdd744b539e4"
      },
      "execution_count": 21,
      "outputs": [
        {
          "output_type": "stream",
          "name": "stdout",
          "text": [
            "\u001b[38;5;2m✔ Created output directory: ../data/models/example_model2\u001b[0m\n",
            "Training pipeline: ['ner']\n",
            "Starting with blank model 'en'\n",
            "Counting training words (limit=0)\n",
            "\n",
            "Itn  NER Loss   NER P   NER R   NER F   Token %  CPU WPS\n",
            "---  ---------  ------  ------  ------  -------  -------\n",
            "  1    208.141   0.000   0.000   0.000  100.000    12531\n",
            "  2    222.624   0.000   0.000   0.000  100.000    12204\n",
            "  3    152.648   0.000   0.000   0.000  100.000    12588\n",
            "  4     39.103   0.000   0.000   0.000  100.000    12572\n",
            "  5     35.838   0.000   0.000   0.000  100.000    13205\n",
            "  6     32.584   0.000   0.000   0.000  100.000    13372\n",
            "  7     26.329   0.000   0.000   0.000  100.000    11320\n",
            "  8     25.215   0.000   0.000   0.000  100.000    11646\n",
            "  9     22.880   0.000   0.000   0.000  100.000    11787\n",
            " 10     21.247   0.000   0.000   0.000  100.000    11114\n",
            " 11     20.635   0.000   0.000   0.000  100.000     8961\n",
            " 12     21.042   0.000   0.000   0.000  100.000    11540\n",
            " 13     17.848   0.000   0.000   0.000  100.000     9009\n",
            " 14     21.301   0.000   0.000   0.000  100.000    11344\n",
            " 15     11.909  40.000  11.765  18.182  100.000    11547\n",
            " 16      9.933  40.000  23.529  29.630  100.000    11033\n",
            " 17      9.798  50.000  29.412  37.037  100.000    11681\n",
            " 18      8.635  53.846  41.176  46.667  100.000    11596\n",
            " 19      6.872  53.846  41.176  46.667  100.000    13052\n",
            " 20      5.908  43.750  41.176  42.424  100.000    13130\n",
            " 21      4.464  47.059  47.059  47.059  100.000    12806\n",
            " 22      3.509  50.000  47.059  48.485  100.000    11230\n",
            " 23      4.153  50.000  41.176  45.161  100.000    11235\n",
            " 24      2.412  42.857  35.294  38.710  100.000    10146\n",
            " 25      1.486  42.857  35.294  38.710  100.000    13190\n",
            " 26      0.829  35.714  29.412  32.258  100.000    13155\n",
            " 27      0.296  40.000  35.294  37.500  100.000    12845\n",
            " 28      0.173  40.000  35.294  37.500  100.000    11297\n",
            " 29      0.209  40.000  35.294  37.500  100.000    11365\n",
            " 30      0.050  35.294  35.294  35.294  100.000    11030\n",
            "\u001b[38;5;2m✔ Saved model to output directory\u001b[0m\n",
            "../data/models/example_model2/model-final\n",
            "\u001b[2K\u001b[38;5;2m✔ Created best model\u001b[0m\n",
            "../data/models/example_model2/model-best\n"
          ]
        }
      ]
    },
    {
      "cell_type": "markdown",
      "source": [
        "Some models are trained with the same data, but only one is selected as the best model."
      ],
      "metadata": {
        "id": "DDbF5Cq9HUFJ"
      }
    },
    {
      "cell_type": "code",
      "source": [
        "# List of models generated as a result of the training phase.\n",
        "!ls ../data/models/example_model2"
      ],
      "metadata": {
        "colab": {
          "base_uri": "https://localhost:8080/"
        },
        "id": "3ulksc72tVuJ",
        "outputId": "b00df8e9-bf59-48bd-a719-b3a38d64121b"
      },
      "execution_count": 22,
      "outputs": [
        {
          "output_type": "stream",
          "name": "stdout",
          "text": [
            "model0\t model12  model16  model2   model23  model27  model4  model8\n",
            "model1\t model13  model17  model20  model24  model28  model5  model9\n",
            "model10  model14  model18  model21  model25  model29  model6  model-best\n",
            "model11  model15  model19  model22  model26  model3   model7  model-final\n"
          ]
        }
      ]
    },
    {
      "cell_type": "markdown",
      "source": [
        "#### **4. Evaluating the Model**"
      ],
      "metadata": {
        "id": "D3hb5DhmzkdC"
      }
    },
    {
      "cell_type": "markdown",
      "source": [
        "Models generated can be evaluated using a wide range of metrics. In this case, metrics are calculated by applying functionalities implemented in *SpaCy*. We will use python [evaluate_spacy.py](https://github.com/BIMCV-CSUSP/DiSMed/blob/master/scripts/evaluate_spacy.py) script to generate them."
      ],
      "metadata": {
        "id": "yb-lTLy0IG33"
      }
    },
    {
      "cell_type": "code",
      "source": [
        "# Displaying optional arguments explanation\n",
        "!python evaluate_spacy.py -h"
      ],
      "metadata": {
        "colab": {
          "base_uri": "https://localhost:8080/"
        },
        "id": "C2U_nwEOmMMQ",
        "outputId": "4bcf02fd-fffb-4374-9a89-703f2b102cec"
      },
      "execution_count": 23,
      "outputs": [
        {
          "output_type": "stream",
          "name": "stdout",
          "text": [
            "usage: evaluate_spacy.py [-h] [-gf GROUNDTRUTH] [-ms MODELSPACY]\n",
            "                         [-ll LABELLIST]\n",
            "\n",
            "optional arguments:\n",
            "  -h, --help            show this help message and exit\n",
            "  -gf GROUNDTRUTH, --groundtruth GROUNDTRUTH\n",
            "                        Path of the ground truth file\n",
            "  -ms MODELSPACY, --modelspacy MODELSPACY\n",
            "                        Directory of the spaCy model\n",
            "  -ll LABELLIST, --labellist LABELLIST\n",
            "                        NERs to use in the model\n"
          ]
        }
      ]
    },
    {
      "cell_type": "code",
      "source": [
        "# Calculating metrics for the new model.\n",
        "!python evaluate_spacy.py -gf '../data/sr/testa.txt' -ms '../data/models/example_model2/model-best'"
      ],
      "metadata": {
        "colab": {
          "base_uri": "https://localhost:8080/"
        },
        "id": "hdbYawKPmhXq",
        "outputId": "36e97ed9-1c86-4447-f5c8-87c8140c104e"
      },
      "execution_count": 24,
      "outputs": [
        {
          "output_type": "stream",
          "name": "stdout",
          "text": [
            "{'uas': 0.0, 'las': 0.0, 'las_per_type': {'': {'p': 0.0, 'r': 0.0, 'f': 0.0}}, 'ents_p': 50.0, 'ents_r': 47.05882352941176, 'ents_f': 48.484848484848484, 'ents_per_type': {'CAB': {'p': 0.0, 'r': 0.0, 'f': 0.0}, 'NAME': {'p': 53.84615384615385, 'r': 77.77777777777779, 'f': 63.63636363636363}, 'FECHA': {'p': 0.0, 'r': 0.0, 'f': 0.0}, 'INST': {'p': 0.0, 'r': 0.0, 'f': 0.0}, 'NUM': {'p': 100.0, 'r': 33.33333333333333, 'f': 50.0}}, 'tags_acc': 0.0, 'token_acc': 100.0, 'textcat_score': 0.0, 'textcats_per_cat': {}}\n"
          ]
        }
      ]
    },
    {
      "cell_type": "markdown",
      "source": [
        "#### **5. Applying the Model**"
      ],
      "metadata": {
        "id": "MgZOysUeIl1I"
      }
    },
    {
      "cell_type": "markdown",
      "source": [
        "In the last section of this notebook we will use an actual NER predictive model.\n",
        "This model was trained and evaluated following the methodology described in [this publication](https://jbiomedsem.biomedcentral.com/articles/10.1186/s13326-021-00236-2).\n",
        "\n",
        "We will apply the model using **SpaCy** functionalities to our plain text example: the Test A report.\n",
        "\n",
        "You can find a installation guide for this library [here](https://spacy.io/usage)."
      ],
      "metadata": {
        "id": "dAxNwubei-mF"
      }
    },
    {
      "cell_type": "code",
      "source": [
        "# Loading SpaCy library\n",
        "import spacy"
      ],
      "metadata": {
        "id": "RsCKBWHPIxrg"
      },
      "execution_count": 25,
      "outputs": []
    },
    {
      "cell_type": "code",
      "source": [
        "# Paths to the model directory and the text file\n",
        "model_dir = \"../data/models/model-best/\"\n",
        "testa_file = \"../../rawreports/testa_raw.txt\"\n",
        "\n",
        "# Loading the model\n",
        "model = spacy.load(model_dir)\n",
        "\n",
        "# Loading the text\n",
        "with open(testa_file) as f:\n",
        "    srtext = f.read()"
      ],
      "metadata": {
        "id": "Le79hCfVqK04"
      },
      "execution_count": 26,
      "outputs": []
    },
    {
      "cell_type": "code",
      "source": [
        "# Predicting named entities\n",
        "doc = model(srtext)"
      ],
      "metadata": {
        "id": "Y3eZBlwVuMmR"
      },
      "execution_count": 27,
      "outputs": []
    },
    {
      "cell_type": "code",
      "source": [
        "# Displaying entities\n",
        "doc.ents"
      ],
      "metadata": {
        "colab": {
          "base_uri": "https://localhost:8080/"
        },
        "id": "tRlAAeF1r9gJ",
        "outputId": "7ee9d18b-3c40-40c5-8ff2-a91c296b0ed2"
      },
      "execution_count": 28,
      "outputs": [
        {
          "output_type": "execute_result",
          "data": {
            "text/plain": [
              "(VERONICA,\n",
              " GALVARRO,\n",
              " AZZAROUALI,\n",
              " 22/12/1923,\n",
              " 14/10/2016,\n",
              " MATARREDONA,\n",
              " DEL,\n",
              " GAYOSO,\n",
              " CONCEPCION,\n",
              " C.S.,\n",
              " PARE,\n",
              " AC-12321,\n",
              " AC-12321)"
            ]
          },
          "metadata": {},
          "execution_count": 28
        }
      ]
    },
    {
      "cell_type": "code",
      "source": [
        "# Displaying categories for each predicted entity\n",
        "for i in range(len(doc.ents)):\n",
        "    print(doc.ents[i].label_)"
      ],
      "metadata": {
        "colab": {
          "base_uri": "https://localhost:8080/"
        },
        "id": "bukYXXC0sQXO",
        "outputId": "a4a009e6-6aab-4a44-9574-5fd8f4643c28"
      },
      "execution_count": 29,
      "outputs": [
        {
          "output_type": "stream",
          "name": "stdout",
          "text": [
            "NAME\n",
            "NAME\n",
            "NAME\n",
            "FECHA\n",
            "FECHA\n",
            "NAME\n",
            "NAME\n",
            "NAME\n",
            "NAME\n",
            "INST\n",
            "INST\n",
            "NUM\n",
            "NUM\n"
          ]
        }
      ]
    },
    {
      "cell_type": "code",
      "source": [
        "# Generating a tagged text from predictions\n",
        "count = 0\n",
        "counter = 0\n",
        "if doc.ents != ():\n",
        "    for ent in doc.ents:\n",
        "        #Labeling\n",
        "        if count == 0:\n",
        "            counter = len(\"<\"+ent.label_ +\">\"+\"<\" + ent.label_  + \"/>\")\n",
        "            srtext = srtext[:ent.start_char] + \"<\"+ ent.label_  +\">\" + ent.text + \"</\" + ent.label_  + \">\" + srtext[(ent.end_char):] \n",
        "\n",
        "        elif count >= 1:\n",
        "            oldcounter = counter\n",
        "            counter = counter + len(\"<\"+ent.label_ +\"><\"+ent.label_ +\"/>\")\n",
        "            srtext = srtext[:(ent.start_char+oldcounter)] + \"<\"+ ent.label_  +\">\" + ent.text + \"</\" + ent.label_  + \">\" + srtext[(ent.end_char+oldcounter):] \n",
        "        count = count + 1"
      ],
      "metadata": {
        "id": "eilCsq_XrzEF"
      },
      "execution_count": 30,
      "outputs": []
    },
    {
      "cell_type": "code",
      "source": [
        "# Writing text with predicted entities tagged\n",
        "with open('../../testa_predicted.txt', 'w') as f:\n",
        "    f.write(srtext)\n",
        "\n",
        "# Displaying the resulting text\n",
        "!head ../../testa_predicted.txt"
      ],
      "metadata": {
        "colab": {
          "base_uri": "https://localhost:8080/"
        },
        "id": "GqxmOEs-wBOU",
        "outputId": "38bc5bd9-0f8a-4be9-d71e-becd4853e2ee"
      },
      "execution_count": 31,
      "outputs": [
        {
          "output_type": "stream",
          "name": "stdout",
          "text": [
            "Nombre: <NAME>VERONICA</NAME> Apellidos: <NAME>GALVARRO</NAME> <NAME>AZZAROUALI</NAME>\n",
            "F.Nacimiento: <FECHA>22/12/1923</FECHA> F.Realización: <FECHA>14/10/2016</FECHA>\n",
            "Médico solicitante: <NAME>MATARREDONA</NAME> <NAME>DEL</NAME> <NAME>GAYOSO</NAME> , <NAME>CONCEPCION</NAME> ,\n",
            "Centro solicitante: NEUROLOGIA ( <INST>C.S.</INST> <INST>PARE</INST> JOFRE ) \n",
            "Exploración solicitada: VASC CEREBRAL\n",
            "E12343212  Número Exploración : <NUM>AC-12321</NUM> \n",
            "\n",
            "RM Cerebral\n",
            "RM Vascular Cerebral (Willis-TSA)  \n",
            "\n"
          ]
        }
      ]
    }
  ]
}